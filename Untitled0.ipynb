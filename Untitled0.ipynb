{
  "nbformat": 4,
  "nbformat_minor": 0,
  "metadata": {
    "colab": {
      "provenance": []
    },
    "kernelspec": {
      "name": "python3",
      "display_name": "Python 3"
    },
    "language_info": {
      "name": "python"
    }
  },
  "cells": [
    {
      "cell_type": "markdown",
      "source": [
        "###**1. In the below elements which of them are values or an expression? eg:- values can be integer or string and expressions will be mathematical operators.**\n",
        "\n",
        "#####Answer - The expression are +, -, *, and /. The values are 'hello', -87.8, and 6."
      ],
      "metadata": {
        "id": "0XogVWYyJ5vk"
      }
    },
    {
      "cell_type": "markdown",
      "source": [
        "####**2. What is the difference between string and variable?**\n",
        "\n",
        "#####Answer- variables are symbols that I can use to store data in a program. I can think of them as an empty box that I fill with some data or value. Strings are data, so we can use them to fill up a variable"
      ],
      "metadata": {
        "id": "E43xSSs_N0xf"
      }
    },
    {
      "cell_type": "markdown",
      "source": [
        "####**3. Describe three different data types.**\n",
        "\n",
        "#####Answer - there are three data types 'integer', 'Faloting_Number', 'String'\n",
        "\n",
        "######1. Integer - There is a whole number, positive or negative, without decimals, of unlimited length.\n",
        "\n",
        "######2. Faloting_Number - There is a method in python that returns a floating-point number for a provided number,\n",
        "\n",
        "######3. String - there is a sequence of characters."
      ],
      "metadata": {
        "id": "rcOXkJMGPEyq"
      }
    },
    {
      "cell_type": "markdown",
      "source": [
        "###**4. What is an expression made up of? What do all expressions do?**\n",
        "\n",
        "#####Answer - An expression is a combination of operators and operands that is interpreted to produce some other value. In any programming language, an expression is evaluated as per the precedence of its operators."
      ],
      "metadata": {
        "id": "jYpy9zFeHJPq"
      }
    },
    {
      "cell_type": "markdown",
      "source": [
        "###**5. This assignment statements, like spam = 10. What is the difference between an expression and a statement?**\n",
        "\n",
        "##### Answer -The Main Differences Between an Expression and a Statement in Programming. Expressions can be assigned or used as operands, while statements can only be declared. Statements create side effects to be useful, while expressions are values or execute to values."
      ],
      "metadata": {
        "id": "I5Y5QT6ZXhZl"
      }
    },
    {
      "cell_type": "markdown",
      "source": [
        "###**6. After running the following code, what does the variable bacon contain?**\n",
        "###**bacon = 22**\n",
        "###**bacon + 1**\n",
        "\n",
        "##### Answer - The bacon variable is set to 22. The bacon + 1 expression does not reassign the value in bacon (that would need an assignment statement: bacon = bacon + 1"
      ],
      "metadata": {
        "id": "ZvdosiMSY1eN"
      }
    },
    {
      "cell_type": "markdown",
      "source": [
        "###**7. What should the values of the following two terms be?**\n",
        "###**'spam'+'spamspam'**\n",
        "###**spam* 3**\n",
        "\n",
        "###### Answer - Both expressions evaluate to the string 'spamspamspam'"
      ],
      "metadata": {
        "id": "AkBilIRkaqYV"
      }
    },
    {
      "cell_type": "markdown",
      "source": [
        "###**8. Why is eggs a valid variable name while 100 is invalid?**\n",
        "\n",
        "##### Answer - Because variable names cannot begin with a number"
      ],
      "metadata": {
        "id": "X3Oydb78f57N"
      }
    },
    {
      "cell_type": "markdown",
      "source": [
        "###**9. What three functions can be used to get the integer, floating-point number, or string version of a value?**\n",
        "\n",
        "##### Answer - The int() , float() , and str( ) functions will evaluate to the integer, floating-point number, and string versions of the value passed to them."
      ],
      "metadata": {
        "id": "E3VNfJ9Knc98"
      }
    },
    {
      "cell_type": "markdown",
      "source": [
        "###**10. Why does this expression cause an error? How can you fix it?**\n",
        "###**'I have eaten' + 99 + 'burritos'**\n",
        "\n",
        "##### Answer - The expression causes an error because 99 is an integer, and only strings can be concatenated to other strings with the + operator. The correct way is I have eaten ' + str(99) + ' burritos.'."
      ],
      "metadata": {
        "id": "InMZraNpoBhT"
      }
    }
  ]
}